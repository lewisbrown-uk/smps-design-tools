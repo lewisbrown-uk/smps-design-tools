{
 "cells": [
  {
   "cell_type": "code",
   "execution_count": null,
   "id": "027268d0-83e3-4672-b2b9-5a104cd16c67",
   "metadata": {},
   "outputs": [],
   "source": [
    "from utils import rounding\n",
    "import math",
    "from boost_converter import lm3478"
   ]
  },
  {
   "cell_type": "code",
   "execution_count": null,
   "id": "5fd47abf-dc6e-409d-9d83-f0a3aa52da6d",
   "metadata": {},
   "outputs": [],
   "source": [
    "# See https://www.ti.com/lit/ds/symlink/lm3478.pdf section 8\n",
    "\n",
    "# Design Parameters\n",
    "\n",
    "V_in_nom = 40 # Nominal input voltage (V)\n",
    "V_in_min = V_in_nom * 0.95\n",
    "V_in_max = V_in_nom * 1.1\n",
    "\n",
    "V_out = 480 # Design output voltage (V)\n",
    "\n",
    "I_out_min = 1e-3 # Design minimum output current (A)\n",
    "I_out_max = 100e-3\n",
    "I_out_nom = 50e-3\n",
    "\n",
    "f_sw = 250e3 # Switching frequency (Hz)\n",
    "\n",
    "V_f = 1.2 # Diode nominal forward voltage (V)\n",
    "V_q = 0.300 # MOSFET on-state voltage drop, estimated (V)\n",
    "\n",
    "ripple_ratio = 0.35 # Design ripple ratio\n"
   ]
  },
  {
   "cell_type": "code",
   "execution_count": null,
   "id": "07cd4995-d224-4514-bba2-670d139b1118",
   "metadata": {},
   "outputs": [],
   "source": [
    "# Duty cycle\n",
    "\n",
    "D = lm3478.duty_cycle(V_in_nom, V_out, V_q, V_f)\n",
    "print(f'Design duty cycle (CCM) = {rounding.sig_figs(D*100,4)}%')"
   ]
  },
  {
   "cell_type": "code",
   "execution_count": null,
   "id": "85c5cbe1-1bfd-4a48-8e50-0072806a7719",
   "metadata": {},
   "outputs": [],
   "source": [
    "# Inductor sizing\n",
    "\n",
    "L_CCM = lm3478.min_inductor_ccm(D, V_in_nom, f_sw, I_out_nom)\n",
    "print(f'Minimum inductor size to support CCM = {rounding.prefix(L_CCM)}H')\n",
    "\n",
    "I_L = I_out_nom / (1-D) # Average inductor current (A)\n",
    "I_ripple = I_L * ripple_ratio # Design ripple current (A)\n",
    "I_L_peak = I_L + I_ripple # Peak inductor current (A)\n",
    "I_L_valley = I_L - I_ripple # Minimum inductor current (A)\n",
    "print(f'Inductor average current = {rounding.prefix(I_L)}A')\n",
    "print(f'Inductor peak current = {rounding.prefix(I_L_peak)}A')\n",
    "print(f'Inductor valley current = {rounding.prefix(I_L_valley)}A')\n",
    "print(f'Inductor ripple current = {rounding.prefix(I_ripple)}A')\n",
    "\n",
    "L_ripple = lm3478.inductor_value_for_ripple(V_in_nom, D, f_sw, I_ripple)\n",
    "print(f'Minimum inductor size for design ripple ratio ({ripple_ratio*100}%) = {rounding.prefix(L_ripple)}H')"
   ]
  },
  {
   "cell_type": "code",
   "execution_count": null,
   "id": "45cdc872-b1fe-4dc2-905e-820f6dfc2088",
   "metadata": {},
   "outputs": [],
   "source": [
    "# Selected inductor value\n",
    "\n",
    "L = 420e-6 \n",
    "\n",
    "if L < L_CCM:\n",
    "    mode = \"DCM\"\n",
    "else:\n",
    "    mode = \"CCM\"\n",
    "\n",
    "print(f'Selected L = {rounding.prefix(L)}H')\n",
    "print(f'Converter will operate in {mode}')\n",
    "\n",
    "if mode == \"CCM\":\n",
    "    I_ripple = D*V_in_nom/(2*f_sw*L) # Actual ripple current\n",
    "    I_L_peak = I_L + I_ripple # Actual peak current\n",
    "    I_L_valley = I_L - I_ripple\n",
    "    \n",
    "    print(f'I_ripple = {rounding.prefix(I_ripple)}A, I_L_peak = {rounding.prefix(I_L_peak)}A, I_L_valley = {rounding.prefix(I_L_valley)}A')\n",
    "else:\n",
    "    D = (1/V_in_nom)*math.sqrt(2*L*(V_out-V_in_nom)*I_out_nom*f_sw)\n",
    "    I_L_peak = V_in_nom*D/(f_sw*L)\n",
    "    print(f'Revised duty cycle for DCM = {rounding.sig_figs(D*100,4)}%')\n",
    "    print(f'I_L_peak = {rounding.prefix(I_L_peak)}A')"
   ]
  },
  {
   "cell_type": "code",
   "execution_count": null,
   "id": "53f95b76-1244-4100-b450-dc31de789b81",
   "metadata": {},
   "outputs": [],
   "source": [
    "# Feedback resistors\n",
    "R_f1 = 3.3e6 # Top feedback resistor (Ω)\n",
    "R_f2 = (1.26*R_f1)/(V_out-1.26) # Bottom feedback resistor\n",
    "print(f'Feedback resistors (exact): top = {rounding.prefix(R_f1)}Ω, bottom = {rounding.prefix(R_f2)}Ω')"
   ]
  },
  {
   "cell_type": "code",
   "execution_count": null,
   "id": "4140830f-ad00-43e9-b0e3-7ad140dc8c49",
   "metadata": {},
   "outputs": [],
   "source": [
    "# Feedback resistor options with E96/E24 values\n",
    "\n",
    "V_fb = 1.26 # Feedback voltage (V)\n",
    "I_fb = 1e-4 # Max. current through feedback divider (A)\n",
    "\n",
    "print('E96 values')\n",
    "print('Divider V_act %diff I_fb')\n",
    "resistors = rounding.resistor_divider(V_out, V_fb, I_fb, 96, 5, True)\n",
    "for t in resistors:\n",
    "    print(f'{rounding.prefix(t[0])}Ω/{rounding.prefix(t[1])}Ω {rounding.prefix(t[2])}V {rounding.sig_figs(100*t[4],2)}% {rounding.prefix(t[5])}A')\n",
    "\n",
    "print('\\nE24 values')\n",
    "print('Divider V_act %diff I_fb')\n",
    "resistors = rounding.resistor_divider(V_out, V_fb, I_fb, 24, 5, True)\n",
    "for t in resistors:\n",
    "    print(f'{rounding.prefix(t[0])}Ω/{rounding.prefix(t[1])}Ω {rounding.prefix(t[2])}V {rounding.sig_figs(100*t[4],2)}% {rounding.prefix(t[5])}A')"
   ]
  },
  {
   "cell_type": "code",
   "execution_count": null,
   "id": "25138d65-3d79-406f-b51e-714d882d77b6",
   "metadata": {},
   "outputs": [],
   "source": [
    "# Selected feedback resistors\n",
    "\n",
    "R_f1 = 12e6\n",
    "R_f2 = 31.6e3"
   ]
  },
  {
   "cell_type": "code",
   "execution_count": null,
   "id": "8bf5791e-deef-4b84-8907-0a6cd78967ee",
   "metadata": {},
   "outputs": [],
   "source": [
    "# Current sense resistor\n",
    "\n",
    "V_sense = 156e-3 # Sense voltage from Electrical Characteristics table\n",
    "ratio_V_sl = 0.49 # V_sl to V_sense ratio\n",
    "I_sw_limit = 1.2*I_L_peak #(I_out_nom/(1-D)+(D*V_in_nom)/(2*f_sw*L))\n",
    "\n",
    "R_sen = (V_sense - (D*V_sense*ratio_V_sl))/I_sw_limit\n",
    "\n",
    "print(f'Design current limit = {rounding.prefix(I_sw_limit)}A')\n",
    "print(f'R_sen = {rounding.prefix(R_sen)}Ω')"
   ]
  },
  {
   "cell_type": "code",
   "execution_count": null,
   "id": "db78087c-e209-4cdf-a886-a64b0066e45f",
   "metadata": {},
   "outputs": [],
   "source": [
    "# Selected sense resistor\n",
    "\n",
    "R_sen = 48e-3 #rounding.closest_E_series_value(R_sen, 96, 'eq') \n",
    "I_sw_limit = (V_sense - (D*V_sense*ratio_V_sl))/R_sen\n",
    "\n",
    "P_R_sen_avg = I_L*I_L*R_sen \n",
    "P_R_sen_peak = I_L_peak*I_L_peak*R_sen\n",
    "P_R_sen_limit = I_sw_limit*I_sw_limit*R_sen\n",
    "\n",
    "print(f'Selected R_sen = {rounding.prefix(R_sen)}Ω') \n",
    "print(f'I_sw_limit = {rounding.prefix(I_sw_limit)}A') \n",
    "print(f'I_L_peak = {rounding.prefix(I_L_peak)}A') \n",
    "print(f'Power dissipation: average = {rounding.prefix(P_R_sen_avg)}W; peak = {rounding.prefix(P_R_sen_peak)}W; limit = {rounding.prefix(P_R_sen_limit)}W')\n",
    "\n",
    "V_sl = 92e-3 # Internal compensation ramp voltage from Electrical Characteristics table \n",
    "R_sen_max = (2*V_sl*f_sw*L)/(V_out-2*V_in_nom)\n",
    "\n",
    "print(f'Maximum R_sen without external compensation = {rounding.prefix(R_sen_max)}Ω')\n",
    "compensation_required = R_sen < R_sen_max \n"
   ]
  },
  {
   "cell_type": "code",
   "execution_count": null,
   "id": "b9905a6c-4cfa-41bb-a694-3dc42c98fea6",
   "metadata": {},
   "outputs": [],
   "source": [
    "# Compensation\n",
    "\n",
    "if compensation_required:\n",
    "    print('External compensation not required')\n",
    "else:\n",
    "    print('\\nExternal compensation **required**')\n",
    "    R_sl = (R_sen*(V_out - 2*V_in_nom)/(2*f_sw*L) - V_sl) / 40e-6\n",
    "\n",
    "    print(f'Minimum R_sl = {rounding.prefix(R_sl)}Ω')\n",
    "\n",
    "    R_sl_24 = rounding.closest_E_series_value(R_sl, 24, 'gt')\n",
    "    R_sl_96 = rounding.closest_E_series_value(R_sl, 96, 'gt')\n",
    "\n",
    "    print(f'Closest values: E24 = {rounding.prefix(R_sl_24)}Ω; E96 = {rounding.prefix(R_sl_96)}Ω')"
   ]
  },
  {
   "cell_type": "code",
   "execution_count": null,
   "id": "cd99ee90-923c-46c5-9c28-0181d07aa22a",
   "metadata": {},
   "outputs": [],
   "source": [
    "# Selected R_sl\n",
    "\n",
    "R_sl = R_sl_96\n",
    "V_sl_delta = 40e-6 * R_sl\n",
    "V_cs = V_sense - D*(V_sl + V_sl_delta)\n",
    "I_sw_limit = V_cs / R_sen\n",
    "\n",
    "print(f'Selected R_sl = {rounding.prefix(R_sl)}Ω')\n",
    "print(f'ΔV_sl = {V_sl_delta}')\n",
    "print(f'Revised current limit = {rounding.prefix(I_sw_limit)}A')\n",
    "if I_sw_limit <= 0:\n",
    "    print(f'Compensation not possible')\n",
    "\n",
    "R_sen_equation_26 = V_sense/(1.2*I_L_peak+(V_out-V_in_nom)*D/(L*f_sw))\n",
    "print(f'\\nEquation 26 R_sen = {rounding.prefix(R_sen_equation_26)}Ω')\n",
    "I_sw_limit_equation_26 = (V_sense - (D*V_sense*ratio_V_sl))/R_sen_equation_26\n",
    "print(f'Equation 26 current limit = {rounding.prefix(I_sw_limit_equation_26)}A')\n",
    "print('Note: if the equation 26 R_sen value is used in CCM, no external compensation is required.')\n",
    "print('Note that the equation 26 current limit may be significantly above the design peak current')\n",
    "print('but this current should not be reached in normal operation.')"
   ]
  },
  {
   "cell_type": "code",
   "execution_count": null,
   "id": "27801619-5edb-4971-a063-5a697f7a2090",
   "metadata": {},
   "outputs": [],
   "source": [
    "# Diode selection\n",
    "\n",
    "I_D_peak = lm3478.diode_peak_current(I_L_peak, D, I_out_nom)\n",
    "\n",
    "print(f'Diode peak current at nominal input/output = {rounding.prefix(I_D_peak)}A')"
   ]
  },
  {
   "cell_type": "code",
   "execution_count": null,
   "id": "765bd2d6-9506-4167-a90a-9d1794b44fc8",
   "metadata": {},
   "outputs": [],
   "source": [
    "# MOSFET\n",
    "\n",
    "temp_factor = 0.3 # R_ds_on temperature factor to model increase when hot\n",
    "R_ds_on = 200e-3 # Nominal on resistance at V_gs, q.v. below (Ω)\n",
    "Q_gs = 8e-9 # Gate-source charge (C)\n",
    "Q_gd = 10e-9 # Gate-drain charge (C)\n",
    "V_gs_th = 4 # Threshold voltage (V)\n",
    "psi_ja = 35 # Junction to ambient thermal resistance (K/W)\n",
    "\n",
    "# Safety margin multipliers\n",
    "V_safety_margin = 1.3\n",
    "I_safety_margin = 1.5\n",
    "P_safety_margin = 2\n",
    "\n",
    "# Driver parameters\n",
    "R_dr_top = 16 # Push-pull driver top switch R_ds_on resistance (Ω)\n",
    "R_dr_btm = 16 # Push-pull driver bottom switch R_ds_on resistance (Ω)\n",
    "V_gs = 7.2 # Driver maximum voltage swing (V)\n",
    "\n",
    "t_LH = 13e-9 # Based on LM3478 datasheet; can also be estimated by (Q_gs/2 + Q_gd) * R_dr_top / (V_gs - V_gs_th)\n",
    "t_HL = 13e-9 # Can be estimated by (Q_gs/2 + Q_gd) * R_dr_btm / (V_gs - V_gs_th)\n",
    "\n",
    "P_cond = I_L**2 * R_ds_on * temp_factor * D\n",
    "P_sw = 0.5 * I_L_peak * V_out * t_LH * f_sw + 0.5 * I_L_valley * V_out * t_HL * f_sw\n",
    "P_MOSFET = P_cond + P_sw\n",
    "\n",
    "T_j = 25 + P_MOSFET * psi_ja\n",
    "\n",
    "print('''\n",
    "MOSFET parameters\n",
    "=================''')\n",
    "print(f'Breakdown V_ds = {rounding.prefix(V_out*V_safety_margin)}V')\n",
    "print(f'Max. continuous I_D = {rounding.prefix(I_L*I_safety_margin)}A')\n",
    "print(f'Max. pulsed I_D = {rounding.prefix(I_L_peak*I_safety_margin)}A')\n",
    "\n",
    "print('''\n",
    "Power dissipation\n",
    "-----------------''')\n",
    "print(f'Conduction loss = {rounding.prefix(P_cond)}W')\n",
    "print(f'Estimated rise time = {rounding.prefix(t_LH)}s')\n",
    "print(f'Estimated fall time = {rounding.prefix(t_HL)}s')\n",
    "print(f'Switching loss (approx.) = {rounding.prefix(P_sw)}W')\n",
    "print(f'Total power dissipation = {rounding.prefix(P_MOSFET)}W')\n",
    "print(f'Junction temperature at 25°C = {T_j}°C')\n",
    "if T_j > 150:\n",
    "    print('Junction temperature is **outside absolute maximum limits**')"
   ]
  },
  {
   "cell_type": "code",
   "execution_count": null,
   "id": "3882e80a-0658-4414-a070-96f1eabc1f06",
   "metadata": {},
   "outputs": [],
   "source": [
    "# Input and output capacitors\n",
    "\n",
    "I_Cin_RMS = I_ripple/math.sqrt(3)\n",
    "I_Cout_RMS = math.sqrt((1-D)*((I_out_nom**2 * D/(1-D)) + I_ripple**2 / 3))\n",
    "\n",
    "print(f'Input capacitor I_RMS = {rounding.prefix(I_Cin_RMS)}A')\n",
    "print(f'Output capacitor I_RMS = {rounding.prefix(I_Cout_RMS)}A')"
   ]
  },
  {
   "cell_type": "code",
   "execution_count": null,
   "id": "bee64d0a-dbe8-4cfa-91a3-b5df88a829e6",
   "metadata": {},
   "outputs": [],
   "source": []
  }
 ],
 "metadata": {
  "kernelspec": {
   "display_name": "Python 3 (ipykernel)",
   "language": "python",
   "name": "python3"
  },
  "language_info": {
   "codemirror_mode": {
    "name": "ipython",
    "version": 3
   },
   "file_extension": ".py",
   "mimetype": "text/x-python",
   "name": "python",
   "nbconvert_exporter": "python",
   "pygments_lexer": "ipython3",
   "version": "3.13.1"
  }
 },
 "nbformat": 4,
 "nbformat_minor": 5
}
