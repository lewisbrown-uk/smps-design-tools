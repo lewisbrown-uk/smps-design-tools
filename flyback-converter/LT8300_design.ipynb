{
 "cells": [
  {
   "cell_type": "code",
   "execution_count": null,
   "id": "d32e2b54-8f1f-4a3b-b251-cebfa3152fd7",
   "metadata": {},
   "outputs": [],
   "source": [
    "import sympy as sp\n",
    "from utils import rounding as rnd"
    "from flyback_converter import lt8300"
   ]
  },
  {
   "cell_type": "code",
   "execution_count": null,
   "id": "e7305311-ca8f-4388-8175-82e088dd05b1",
   "metadata": {},
   "outputs": [],
   "source": [
    "# Create symbols\n",
    "\n",
    "V_in, V_out, V_F = sp.symbols('V_in V_out V_F')\n",
    "I_out, I_Rfb, I_sw_min, I_sw_max = sp.symbols('I_out I_Rfb I_sw_min I_sw_max')\n",
    "R_fb = sp.symbols('R_fb')\n",
    "P_out = sp.symbols('P_out')\n",
    "t_off_min, t_on_min = sp.symbols('t_off_min t_on_min')\n",
    "D, eta, N_ps = sp.symbols('D eta N_ps')\n",
    "L_pri_min_off, L_pri_min_on = sp.symbols('L_pri_min_off L_pri_min_on')"
   ]
  },
  {
   "cell_type": "code",
   "execution_count": null,
   "id": "633ae4fa-13a6-4e77-aa93-fcf370fd4b62",
   "metadata": {},
   "outputs": [],
   "source": [
    "# Immutable parameters (set by devices used)\n",
    "\n",
    "LT8300 = [\n",
    "    (I_Rfb, 100e-6), # Feedback regulation current, 100µA\n",
    "    (I_sw_max, 260e-3), # Maximum switch current, 260mA\n",
    "    (I_sw_min, 52e-3), # Minimum switch current limit, 52mA\n",
    "    (t_off_min, 350e-9), # Minimum off time, 290ns\n",
    "    (t_on_min, 160e-9), # Minimum on time, 160ns\n",
    "]\n",
    "\n",
    "LT8301 = [\n",
    "    (I_Rfb, 100e-6), # Feedback regulation current, 100µA\n",
    "    (I_sw_max, 1.2), # Maximum switch current, 1.2A\n",
    "    (I_sw_min, 290e-3), # Minimum switch current limit, 290mA\n",
    "    (t_off_min, 450e-9), # Minimum off time, 450ns\n",
    "    (t_on_min, 170e-9), # Minimum on time, 170ns\n",
    "]\n",
    "\n",
    "Diode = [    \n",
    "    (V_F, 1.45), # Output diode forward voltage, 1.45V\n",
    "]\n",
    "\n",
    "fixed = LT8300 + Diode"
   ]
  },
  {
   "cell_type": "code",
   "execution_count": null,
   "id": "171acdee-bf1b-4d74-97d6-db6fbe39c564",
   "metadata": {},
   "outputs": [],
   "source": [
    "# Set up design equations\n",
    "\n",
    "eq_V_out = sp.Eq(V_out, I_Rfb * (R_fb / N_ps) - V_F)\n",
    "\n",
    "eq_D = sp.Eq(D, (V_out + V_F) * N_ps / ((V_out + V_F) * N_ps + V_in))\n",
    "\n",
    "eq_P_out = sp.Eq(P_out, eta * V_in * D * I_sw_max * 0.5)\n",
    "\n",
    "eq_L_pri_min_off = sp.Eq(L_pri_min_off, t_off_min * N_ps * (V_out + V_F) / I_sw_min)\n",
    "eq_L_pri_min_on = sp.Eq(L_pri_min_on, t_on_min * V_in / I_sw_min)"
   ]
  },
  {
   "cell_type": "code",
   "execution_count": null,
   "id": "502558b9-98c2-4fc8-a083-9c96a84d0c62",
   "metadata": {},
   "outputs": [],
   "source": [
    "from IPython.display import display, Markdown\n",
    "\n",
    "# Fix relevant parameters and solve\n",
    "\n",
    "V_out_value = 400\n",
    "\n",
    "input_params = [\n",
    "    (eta, 0.85), # ratio, Assumed efficiency\n",
    "    (N_ps, 0.1), # ratio, Turns ratio\n",
    "    (V_out, V_out_value), # V, output voltage\n",
    "]\n",
    "\n",
    "output = '''\n",
    "V<sub>in</sub> | R<sub>fb</sub> | V<sub>out</sub> | L<sub>pri<sub>min</sub></sub> | D | P<sub>out</sub> | I<sub>out</sub>\n",
    "-|-|-|-|-|-|-\n",
    "'''\n",
    "\n",
    "test_voltages = [1, 3.3, 5, 8, 10.8, 12, 15, 18, 21, 24, 26.4]\n",
    "R_fb_values = []\n",
    "V_out_values = []\n",
    "L_pri_min_values = []\n",
    "D_values = []\n",
    "P_out_values = []\n",
    "I_out_values = []\n",
    "\n",
    "for V in test_voltages:\n",
    "    knowns = input_params + [(V_in, V)]\n",
    "    \n",
    "    output = output + f'{rnd.prefix(V)}V'\n",
    "    solution = sp.solve(eq_V_out.subs(knowns).subs(fixed), R_fb)\n",
    "    R_fb_sol = rnd.closest_E_series_value(solution[0], 96, 'gt')\n",
    "    output = output + f'|{rnd.prefix(R_fb_sol)}Ω'\n",
    "    R_fb_values.append(R_fb_sol)\n",
    "\n",
    "    knowns_2 = input_params[:-1] + [(V_in, V), (R_fb, R_fb_sol)]\n",
    "    solution = sp.solve(eq_V_out.subs(knowns_2).subs(fixed), V_out)\n",
    "    V_out_sol = solution[0]\n",
    "    output = output + f'|{rnd.prefix(V_out_sol)}V'\n",
    "    V_out_values.append(V_out_sol)\n",
    "    \n",
    "    solution_off = sp.solve(eq_L_pri_min_off.subs(knowns).subs(fixed), L_pri_min_off)\n",
    "    solution_on = sp.solve(eq_L_pri_min_on.subs(knowns).subs(fixed), L_pri_min_on)\n",
    "    L_pri_min = max(solution_off[0], solution_on[0])\n",
    "    output = output + f'|{rnd.prefix(L_pri_min)}H'\n",
    "    L_pri_min_values.append(L_pri_min)\n",
    "    \n",
    "    solution_D = sp.solve(eq_D.subs(knowns).subs(fixed), D)\n",
    "    output = output + f'|{rnd.sig_figs(solution_D[0]*100,3)}%'\n",
    "    D_values.append(solution_D)\n",
    "    \n",
    "    solution = sp.solve(eq_P_out.subs(knowns).subs(fixed).subs([(D, solution_D[0])]), P_out)\n",
    "    P_out_sol = solution[0]\n",
    "    output = output + f'|{rnd.prefix(P_out_sol)}W'\n",
    "    P_out_values.append(P_out_sol)\n",
    "\n",
    "    output = output + f'|{rnd.prefix(P_out_sol/V_out_sol)}A'\n",
    "    I_out_values.append(P_out_sol/V_out_sol)\n",
    "\n",
    "    output = output + '\\n'\n",
    "\n",
    "display(Markdown(output))\n",
    "\n",
    "L = 15e-6\n"
   ]
  },
  {
   "cell_type": "code",
   "execution_count": null,
   "id": "f0c8662a-380c-463c-9937-c69ed4bfc47a",
   "metadata": {},
   "outputs": [],
   "source": [
    "import matplotlib.pyplot as plt\n",
    "\n",
    "plt.plot(test_voltages, D_values, marker='o')"
   ]
  },
  {
   "cell_type": "code",
   "execution_count": null,
   "id": "c513c164-9d7f-4e6d-adf6-14a90c696ab7",
   "metadata": {},
   "outputs": [],
   "source": []
  }
 ],
 "metadata": {
  "kernelspec": {
   "display_name": "Python 3 (ipykernel)",
   "language": "python",
   "name": "python3"
  },
  "language_info": {
   "codemirror_mode": {
    "name": "ipython",
    "version": 3
   },
   "file_extension": ".py",
   "mimetype": "text/x-python",
   "name": "python",
   "nbconvert_exporter": "python",
   "pygments_lexer": "ipython3",
   "version": "3.13.1"
  }
 },
 "nbformat": 4,
 "nbformat_minor": 5
}
