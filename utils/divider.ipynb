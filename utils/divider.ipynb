{
 "cells": [
  {
   "cell_type": "code",
   "execution_count": null,
   "id": "90275b8d-1667-4e22-890f-d03ab6d4f1ea",
   "metadata": {},
   "outputs": [],
   "source": [
    "from utils.rounding import resistor_divider, prefix, sig_figs\n",
    "\n",
    "V_in=170\n",
    "V_out=1\n",
    "I_min=1e-5\n",
    "I_max=1e-4\n",
    "e_series=96\n",
    "\n",
    "results = resistor_divider(V_in, V_out, I_min, I_max, e_series=e_series, num_results=10, implied_V_in=True)\n",
    "for (R1,R2,V_in,abs_diff,rel_diff,I) in results:\n",
    "    print(f'{prefix(R1)}Ω {prefix(R2)}Ω {prefix(V_in)}V {prefix(I)}A {prefix(abs_diff)}V {sig_figs(rel_diff*100,2)}%')"
   ]
  },
  {
   "cell_type": "code",
   "execution_count": null,
   "id": "d332c9cc-ace7-4553-9199-cce5b3068fdb",
   "metadata": {},
   "outputs": [],
   "source": [
    "print(results)"
   ]
  },
  {
   "cell_type": "code",
   "execution_count": null,
   "id": "2610f405-8ecb-42c2-b219-9956f706e78e",
   "metadata": {},
   "outputs": [],
   "source": []
  }
 ],
 "metadata": {
  "kernelspec": {
   "display_name": "Python 3 (ipykernel)",
   "language": "python",
   "name": "python3"
  },
  "language_info": {
   "codemirror_mode": {
    "name": "ipython",
    "version": 3
   },
   "file_extension": ".py",
   "mimetype": "text/x-python",
   "name": "python",
   "nbconvert_exporter": "python",
   "pygments_lexer": "ipython3",
   "version": "3.13.1"
  }
 },
 "nbformat": 4,
 "nbformat_minor": 5
}
