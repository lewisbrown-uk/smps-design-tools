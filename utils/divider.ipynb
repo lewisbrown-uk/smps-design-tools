{
 "cells": [
  {
   "cell_type": "code",
   "execution_count": 8,
   "id": "90275b8d-1667-4e22-890f-d03ab6d4f1ea",
   "metadata": {},
   "outputs": [
    {
     "name": "stdout",
     "output_type": "stream",
     "text": [
      "1.69MΩ 10kΩ 170V 100µA 0V 0%\n",
      "13.3MΩ 78.7kΩ 169.996V 12.7068µA 22.4237µV -0.0022%\n",
      "2.67MΩ 15.8kΩ 169.987V 63.2959µA 74.4657µV -0.0074%\n",
      "3.16MΩ 18.7kΩ 169.984V 53.481µA 94.3782µV -0.0094%\n",
      "1.91MΩ 11.3kΩ 170.027V 88.4818µA 156.144µV 0.016%\n",
      "2.94MΩ 17.4kΩ 169.966V 57.4829µA 202.881µV -0.02%\n",
      "3.92MΩ 23.2kΩ 169.966V 43.1122µA 202.881µV -0.02%\n",
      "11.8MΩ 69.8kΩ 170.054V 14.3221µA 320.14µV 0.032%\n",
      "16.5MΩ 97.6kΩ 170.057V 10.2424µA 337.398µV 0.034%\n",
      "3.01MΩ 17.8kΩ 170.101V 56.1464µA 594.491µV 0.059%\n"
     ]
    }
   ],
   "source": [
    "from rounding import resistor_divider, prefix, sig_figs\n",
    "\n",
    "V_in=170\n",
    "V_out=1\n",
    "I_min=1e-5\n",
    "I_max=1e-4\n",
    "e_series=96\n",
    "\n",
    "results = resistor_divider(V_in, V_out, I_min, I_max, e_series=e_series, num_results=10, implied_V_in=True)\n",
    "for (R1,R2,V_in,abs_diff,rel_diff,I) in results:\n",
    "    print(f'{prefix(R1)}Ω {prefix(R2)}Ω {prefix(V_in)}V {prefix(I)}A {prefix(abs_diff)}V {sig_figs(rel_diff*100,2)}%')"
   ]
  },
  {
   "cell_type": "code",
   "execution_count": 10,
   "id": "d332c9cc-ace7-4553-9199-cce5b3068fdb",
   "metadata": {},
   "outputs": [
    {
     "name": "stdout",
     "output_type": "stream",
     "text": [
      "[]\n"
     ]
    }
   ],
   "source": [
    "print(results)"
   ]
  },
  {
   "cell_type": "code",
   "execution_count": null,
   "id": "2610f405-8ecb-42c2-b219-9956f706e78e",
   "metadata": {},
   "outputs": [],
   "source": []
  }
 ],
 "metadata": {
  "kernelspec": {
   "display_name": "Python 3 (ipykernel)",
   "language": "python",
   "name": "python3"
  },
  "language_info": {
   "codemirror_mode": {
    "name": "ipython",
    "version": 3
   },
   "file_extension": ".py",
   "mimetype": "text/x-python",
   "name": "python",
   "nbconvert_exporter": "python",
   "pygments_lexer": "ipython3",
   "version": "3.13.1"
  }
 },
 "nbformat": 4,
 "nbformat_minor": 5
}
