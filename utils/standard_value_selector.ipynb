{
 "cells": [
  {
   "cell_type": "code",
   "execution_count": 1,
   "id": "c0f110b2-f4dc-46b7-bb08-c5d0b348eb51",
   "metadata": {},
   "outputs": [],
   "source": [
    "import math\n",
    "from math import floor, log10\n",
    "\n",
    "\n",
    "def sig_figs(x: float, precision: int):\n",
    "    \"\"\"\n",
    "    Rounds a number to number of significant figures\n",
    "    Parameters:\n",
    "    - x - the number to be rounded\n",
    "    - precision (integer) - the number of significant figures\n",
    "    Returns:\n",
    "    - float\n",
    "    \"\"\"\n",
    "\n",
    "    x = float(x)\n",
    "    if x == 0:\n",
    "        return 0\n",
    "    precision = int(precision)\n",
    "\n",
    "    return round(x, -int(floor(log10(abs(x)))) + (precision - 1))\n",
    "    \n",
    "def sign(x, value=1):\n",
    "    \"\"\"Mathematical signum function.\n",
    "\n",
    "    :param x: Object of investigation\n",
    "    :param value: The size of the signum (defaults to 1)\n",
    "    :returns: Plus or minus value\n",
    "    \"\"\"\n",
    "    return -value if x < 0 else value\n",
    "\n",
    "def prefix(x, dimension=1):\n",
    "    \"\"\"Give the number an appropriate SI prefix.\n",
    "\n",
    "    :param x: Too big or too small number.\n",
    "    :returns: String containing a number between 1 and 1000 and SI prefix.\n",
    "    \"\"\"\n",
    "    if x == 0:\n",
    "        return \"0\"\n",
    "\n",
    "    l = math.floor(math.log10(abs(x)))\n",
    "    if abs(l) > 24:\n",
    "        l = sign(l, value=24)\n",
    "\n",
    "    div, mod = divmod(l, 3*dimension)\n",
    "    if div != 0:\n",
    "        return \"%g%s\" % (x * 10**(-l + mod), \" kMGTPEZYyzafpnµm\"[div])\n",
    "    else:\n",
    "        return \"%g\" % (x * 10**(-l + mod))"
   ]
  },
  {
   "cell_type": "code",
   "execution_count": 2,
   "id": "16833515-fad3-4843-b890-9a8cfa4398b4",
   "metadata": {},
   "outputs": [],
   "source": [
    "e3 = [1, 2.2, 4.7]\n",
    "e6 = [1, 1.5, 2.2, 3.3, 4.7, 6.8]\n",
    "e12 = [1, 1.2, 1.5, 1.8, 2.2, 2.7, 3.3, 3.9, 4.7, 5.6, 6.8, 8.2]\n",
    "e24 = [1, 1.1, 1.2, 1.3, 1.5, 1.6, 1.8, 2, 2.2, 2.4, 2.7, 3, 3.3, 3.6, 3.9, 4.3, 4.7, 5.1, 5.6, 6.2, 6.8, 7.5, 8.2, 9.1]\n",
    "e48 = [1, 1.05, 1.1, 1.15, 1.21, 1.27, 1.33, 1.4, 1.47, 1.54, 1.62, 1.69, 1.78, 1.87, 1.96, 2.05, 2.15, 2.26, 2.37, 2.49, 2.61, 2.74, 2.87, 3.01, 3.16, 3.32, 3.48, 3.65, 3.83, 4.02, 4.22, 4.42, 4.64, 4.87, 5.11, 5.36, 5.62, 5.90, 6.19, 6.49, 6.81, 7.15, 7.50, 7.87, 8.25, 8.66, 9.09, 9.53]\n",
    "e96 = [1, 1.02, 1.05, 1.07, 1.1, 1.13, 1.15, 1.18, 1.21, 1.24, 1.27, 1.3, 1.33, 1.37, 1.4, 1.43, 1.47, 1.5, 1.54, 1.58, 1.62, 1.65, 1.69, 1.74, 1.78, 1.82, 1.87, 1.91, 1.96, 2, 2.05, 2.1, 2.15, 2.21, 2.26, 2.32, 2.37, 2.43, 2.49, 2.55, 2.61, 2.67, 2.74, 2.8, 2.87, 2.94, 3.01, 3.09, 3.16, 3.24, 3.32, 3.4, 3.48, 3.57, 3.65, 3.74, 3.83, 3.92, 4.02, 4.12, 4.22, 4.32, 4.42, 4.53, 4.64, 4.75, 4.87, 4.99, 5.11, 5.23, 5.36, 5.49, 5.62, 5.76, 5.9, 6.04, 6.19, 6.34, 6.49, 6.65, 6.81, 6.98, 7.15, 7.32, 7.5, 7.68, 7.87, 8.06, 8.25, 8.45, 8.66, 8.87, 9.09, 9.31, 9.53, 9.76]"
   ]
  },
  {
   "cell_type": "code",
   "execution_count": 3,
   "id": "38b4c26b-6dd9-4f7f-b67d-c1b3e02f5475",
   "metadata": {},
   "outputs": [],
   "source": [
    "round_decimals = [x/10 for x in range(10,100)]"
   ]
  },
  {
   "cell_type": "code",
   "execution_count": 4,
   "id": "fa2d5733-7833-405e-a522-67569be7df7b",
   "metadata": {},
   "outputs": [],
   "source": [
    "R_values = set(e48+e24)\n",
    "C_values = set(e12)\n",
    "pairs = {}\n",
    "for R in R_values:\n",
    "    for C in C_values:\n",
    "        pairs[(R,C)] = 0"
   ]
  },
  {
   "cell_type": "code",
   "execution_count": 5,
   "id": "f0411bff-1e76-46f4-b637-6a4e7ecb2d35",
   "metadata": {},
   "outputs": [],
   "source": [
    "target = 0.4165e-6 / 1.1\n",
    "C_magnitude = 1e-10\n",
    "R_magnitude = 1e4\n",
    "output = {}\n",
    "for (R,C) in pairs.keys():\n",
    "    R_value = R * R_magnitude\n",
    "    C_value = C * C_magnitude\n",
    "    for (R_multiplier, C_multiplier) in [(1,1), (1,10), (10,1), (1,0.1), (0.1,1)]:\n",
    "        R_actual = R_value*R_multiplier\n",
    "        C_actual = C_value*C_multiplier\n",
    "        RC_value = R_actual*C_actual\n",
    "        output[R_actual,C_actual] = (R_actual, C_actual, RC_value, abs(target-RC_value), round(100*(RC_value-target)/target,1))\n",
    "\n",
    "result = sorted(output.values(), key=lambda t: t[3], reverse=False)[:10]"
   ]
  },
  {
   "cell_type": "code",
   "execution_count": 6,
   "id": "64af67fb-b0a0-4b21-a959-72cd3968ccb6",
   "metadata": {},
   "outputs": [
    {
     "name": "stdout",
     "output_type": "stream",
     "text": [
      "31.6kΩ 12pF 379.2ns 5.636e-10 0.1%\n",
      "3.16kΩ 120pF 379.2ns 5.636e-10 0.1%\n",
      "14kΩ 27pF 378ns 6.364e-10 -0.2%\n",
      "1.4kΩ 270pF 378ns 6.364e-10 -0.2%\n",
      "1.15kΩ 330pF 379.5ns 8.636e-10 0.2%\n",
      "11.5kΩ 33pF 379.5ns 8.636e-10 0.2%\n",
      "38.3kΩ 10pF 383ns 4.364e-09 1.2%\n",
      "3.83kΩ 100pF 383ns 4.364e-09 1.2%\n",
      "24.9kΩ 15pF 373.5ns 5.136e-09 -1.4%\n",
      "2.49kΩ 150pF 373.5ns 5.136e-09 -1.4%\n"
     ]
    }
   ],
   "source": [
    "for (R, C, value, abs_diff, pct_diff) in result:\n",
    "    print(f'{prefix(sig_figs(R,3))}Ω {prefix(sig_figs(C,3))}F {prefix(sig_figs(value,6))}s {sig_figs(abs_diff, 4)} {round(pct_diff,1)}%')\n"
   ]
  },
  {
   "cell_type": "code",
   "execution_count": 11,
   "id": "a4f824f4-b0db-4ec1-a143-76c4d40c28c7",
   "metadata": {},
   "outputs": [
    {
     "name": "stdout",
     "output_type": "stream",
     "text": [
      "1.87k 13.3k 1.23988V 116µV 0.00935% 93.2244µA\n",
      "2.32k 16.5k 1.23988V 120.9µV 0.00975% 75.1442µA\n",
      "13.7k 97.6k 1.24014V 137µV -0.011% 12.7063µA\n",
      "17.4k 124k 1.24019V 187.3µV -0.0151% 10.0015µA\n",
      "2.37k 16.9k 1.24028V 280.7µV -0.0226% 73.3894µA\n",
      "4.22k 30.1k 1.24032V 321.3µV -0.0259% 41.2067µA\n",
      "11.3k 80.6k 1.24032V 322.2µV -0.026% 15.3886µA\n",
      "14.3k 102k 1.24032V 324.9µV -0.0262% 12.16µA\n",
      "15k 107k 1.24033V 334.8µV -0.027% 11.5919µA\n",
      "1.78k 12.7k 1.24037V 366.9µV -0.0296% 97.6667µA\n",
      "4.12k 29.4k 1.24039V 390.2µV -0.0315% 42.1901µA\n",
      "16.2k 115k 1.23959V 407.3µV 0.0328% 10.7791µA\n",
      "2.55k 18.2k 1.24042V 418.6µV -0.0338% 68.1549µA\n",
      "3.32k 23.7k 1.24045V 446.4µV -0.036% 52.3395µA\n",
      "3.74k 26.7k 1.24046V 456.7µV -0.0368% 46.4591µA\n",
      "4.02k 28.7k 1.24046V 462.4µV -0.0373% 43.2217µA\n",
      "9.09k 64.9k 1.24047V 471.1µV -0.038% 19.1136µA\n",
      "5.49k 39.2k 1.24048V 482.7µV -0.0389% 31.645µA\n",
      "6.19k 44.2k 1.24049V 489µV -0.0394% 28.0654µA\n",
      "7.87k 56.2k 1.2405V 499.5µV -0.0403% 22.0729µA\n"
     ]
    }
   ],
   "source": [
    "def resistor_divider(V_in, V_out, I_min, I_max, num_results):\n",
    "    R_values = set(e96)\n",
    "    pairs = {}\n",
    "    for Rt in R_values:\n",
    "        for Rb in R_values:\n",
    "            pairs[(Rt,Rb)] = 0\n",
    "\n",
    "    output = []\n",
    "    for (R1,R2) in pairs.keys():\n",
    "        pair_output = []\n",
    "        for exp_t in range(0, 8):\n",
    "            for exp_b in range(0, 8):\n",
    "                Rt = R1 * 10**exp_t\n",
    "                Rb = R2 * 10**exp_b\n",
    "                if Rt == 4.3e6 and Rb == 18e3:\n",
    "                    pass\n",
    "                V = V_in * Rb / (Rt+Rb)\n",
    "                I = V_in / (Rt+Rb)\n",
    "                if I_min <= I and I <= I_max:\n",
    "                    pair_output.append((Rt, Rb, V, abs(V_out-V), (V_out-V)/V_out, I))\n",
    "        if len(pair_output)>0:\n",
    "            pair_result = sorted(pair_output, key=lambda t: t[3], reverse=False)[0]\n",
    "            output.append(pair_result)\n",
    "\n",
    "    result = sorted(output, key=lambda t: t[3], reverse=False)[:num_results]\n",
    "    return result\n",
    "\n",
    "result = resistor_divider(math.sqrt(2), 1.24, 1e-5, 1e-4, 20)\n",
    "for t in result:\n",
    "    print(f'{prefix(t[0])} {prefix(t[1])} {prefix(t[2])}V {prefix(sig_figs(t[3],4))}V {sig_figs(t[4]*100,3)}% {prefix(t[5])}A')"
   ]
  },
  {
   "cell_type": "code",
   "execution_count": 8,
   "id": "1cd031ee-50cd-4c21-b2da-73e42231d5ff",
   "metadata": {},
   "outputs": [
    {
     "name": "stdout",
     "output_type": "stream",
     "text": [
      "(1870.0, 13300.0, 1.2398840065630958, 0.00011599343690416042, 9.354309427754872e-05, 9.32243613957215e-05)\n"
     ]
    }
   ],
   "source": [
    "print (result[0])\n"
   ]
  },
  {
   "cell_type": "code",
   "execution_count": 9,
   "id": "4b4ad47e-aaff-44e2-87fa-d92bf025e620",
   "metadata": {},
   "outputs": [
    {
     "name": "stdout",
     "output_type": "stream",
     "text": [
      "28.49002849002849\n"
     ]
    }
   ],
   "source": [
    "print(300*10000000/(95300000+10000000))\n"
   ]
  },
  {
   "cell_type": "code",
   "execution_count": 10,
   "id": "6dc87241-7c0d-43a4-aaaf-0b332a3b18b4",
   "metadata": {},
   "outputs": [
    {
     "name": "stdout",
     "output_type": "stream",
     "text": [
      "0.133\n"
     ]
    }
   ],
   "source": [
    "def closest_E_series_value(input_value, e_series=96, method='eq'):\n",
    "    if e_series == 1:\n",
    "        values = set([1])\n",
    "    elif e_series == 3:\n",
    "        values = set(e3)\n",
    "    elif e_series == 6:\n",
    "        values = set(e6)\n",
    "    elif e_series == 12:\n",
    "        values = set(e12)\n",
    "    elif e_series == 24:\n",
    "        values = set(e24)\n",
    "    elif e_series == 48:\n",
    "        values = set(e48+e24)\n",
    "    elif e_series == 96:\n",
    "        values = set(e96+e24)\n",
    "    else:\n",
    "        values = set(e24)\n",
    "\n",
    "    p = math.floor(math.log10(input_value))\n",
    "    x = input_value / (10**p)\n",
    "\n",
    "    best_y_pos = 0\n",
    "    best_diff_pos = 100\n",
    "    best_y_neg = 0\n",
    "    best_diff_neg = 100\n",
    "    for y in values:\n",
    "        if y == 1.27 or y == 1.3:\n",
    "            pass\n",
    "        if y>x and abs(y-x) < best_diff_pos:\n",
    "            best_y_pos = y\n",
    "            best_diff_pos = abs(y-x)\n",
    "        if y<=x and abs(y-x) < best_diff_neg:\n",
    "            best_y_neg = y\n",
    "            best_diff_neg = abs(y-x)\n",
    "\n",
    "    if method == 'lt':\n",
    "        return best_y_neg\n",
    "    elif method == 'gt':\n",
    "        return best_y_pos\n",
    "    else:\n",
    "        if abs(best_diff_pos) < abs(best_diff_neg):\n",
    "            return best_y_pos * (10**p)\n",
    "        else:\n",
    "            return best_y_neg * (10**p)\n",
    "\n",
    "print(closest_E_series_value(133.164e-3, 96, 'eq'))"
   ]
  },
  {
   "cell_type": "code",
   "execution_count": 11,
   "id": "d785e10a-2346-443f-9546-85b9c5232157",
   "metadata": {},
   "outputs": [
    {
     "name": "stdout",
     "output_type": "stream",
     "text": [
      "-0.15287204966352874\n",
      "0.4399647446119559\n"
     ]
    }
   ],
   "source": [
    "values = []\n",
    "tolerance = [0.001, 0.001, 0.001]\n",
    "for x in [1-tolerance[0], 1+tolerance[0]]:\n",
    "    for y in [1-tolerance[1], 1+tolerance[1]]:\n",
    "        for z in [1-tolerance[2], 1+tolerance[2]]:\n",
    "            values.append(2.5*x*280/(z*(y*13700+x*280)))\n",
    "print(100*min(values)/50e-3-100)\n",
    "print(100*max(values)/50e-3-100)\n"
   ]
  },
  {
   "cell_type": "code",
   "execution_count": null,
   "id": "76fb8d69-a64e-4118-a305-0b7311063534",
   "metadata": {},
   "outputs": [],
   "source": []
  }
 ],
 "metadata": {
  "kernelspec": {
   "display_name": "Python 3 (ipykernel)",
   "language": "python",
   "name": "python3"
  },
  "language_info": {
   "codemirror_mode": {
    "name": "ipython",
    "version": 3
   },
   "file_extension": ".py",
   "mimetype": "text/x-python",
   "name": "python",
   "nbconvert_exporter": "python",
   "pygments_lexer": "ipython3",
   "version": "3.13.1"
  }
 },
 "nbformat": 4,
 "nbformat_minor": 5
}
