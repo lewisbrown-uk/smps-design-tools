{
 "cells": [
  {
   "cell_type": "code",
   "execution_count": null,
   "id": "import-rounded",
   "metadata": {},
   "outputs": [],
   "source": [
    "import math\n",
    "from math import floor, log10\n",
    "from utils.rounding import sig_figs, sign, prefix, closest_E_series_value, resistor_divider, e3, e6, e12, e24, e48, e96\n"
   ]
  },
  {
   "cell_type": "code",
   "execution_count": null,
   "id": "38b4c26b-6dd9-4f7f-b67d-c1b3e02f5475",
   "metadata": {},
   "outputs": [],
   "source": [
    "round_decimals = [x/10 for x in range(10,100)]"
   ]
  },
  {
   "cell_type": "code",
   "execution_count": null,
   "id": "fa2d5733-7833-405e-a522-67569be7df7b",
   "metadata": {},
   "outputs": [],
   "source": [
    "R_values = set(e48+e24)\n",
    "C_values = set(e12)\n",
    "pairs = {}\n",
    "for R in R_values:\n",
    "    for C in C_values:\n",
    "        pairs[(R,C)] = 0"
   ]
  },
  {
   "cell_type": "code",
   "execution_count": null,
   "id": "f0411bff-1e76-46f4-b637-6a4e7ecb2d35",
   "metadata": {},
   "outputs": [],
   "source": [
    "target = 0.4165e-6 / 1.1\n",
    "C_magnitude = 1e-10\n",
    "R_magnitude = 1e4\n",
    "output = {}\n",
    "for (R,C) in pairs.keys():\n",
    "    R_value = R * R_magnitude\n",
    "    C_value = C * C_magnitude\n",
    "    for (R_multiplier, C_multiplier) in [(1,1), (1,10), (10,1), (1,0.1), (0.1,1)]:\n",
    "        R_actual = R_value*R_multiplier\n",
    "        C_actual = C_value*C_multiplier\n",
    "        RC_value = R_actual*C_actual\n",
    "        output[R_actual,C_actual] = (R_actual, C_actual, RC_value, abs(target-RC_value), round(100*(RC_value-target)/target,1))\n",
    "\n",
    "result = sorted(output.values(), key=lambda t: t[3], reverse=False)[:10]"
   ]
  },
  {
   "cell_type": "code",
   "execution_count": null,
   "id": "64af67fb-b0a0-4b21-a959-72cd3968ccb6",
   "metadata": {},
   "outputs": [],
   "source": [
    "for (R, C, value, abs_diff, pct_diff) in result:\n",
    "    print(f'{prefix(sig_figs(R,3))}\u2126 {prefix(sig_figs(C,3))}F {prefix(sig_figs(value,6))}s {sig_figs(abs_diff, 4)} {round(pct_diff,1)}%')\n"
   ]
  },
  {
   "cell_type": "code",
   "execution_count": null,
   "id": "a4f824f4-b0db-4ec1-a143-76c4d40c28c7",
   "metadata": {},
   "outputs": [],
   "source": [
    "import utils.rounding as rounding\n",
    "_backup_e24 = rounding.e24\n",
    "rounding.e24 = []\n",
    "result = resistor_divider(math.sqrt(2), 1.24, 1e-5, 1e-4, e_series=96, num_results=20)\n",
    "rounding.e24 = _backup_e24\n",
    "for t in result:\n",
    "    print(f'{prefix(t[0])} {prefix(t[1])} {prefix(t[2])}V {prefix(sig_figs(t[3],4))}V {sig_figs(t[4]*100,3)}% {prefix(t[5])}A')"
   ]
  },
  {
   "cell_type": "code",
   "execution_count": null,
   "id": "1cd031ee-50cd-4c21-b2da-73e42231d5ff",
   "metadata": {},
   "outputs": [],
   "source": [
    "print (result[0])\n"
   ]
  },
  {
   "cell_type": "code",
   "execution_count": null,
   "id": "4b4ad47e-aaff-44e2-87fa-d92bf025e620",
   "metadata": {},
   "outputs": [],
   "source": [
    "print(300*10000000/(95300000+10000000))\n"
   ]
  },
  {
   "cell_type": "code",
   "execution_count": null,
   "id": "6dc87241-7c0d-43a4-aaaf-0b332a3b18b4",
   "metadata": {},
   "outputs": [],
   "source": [
    "print(closest_E_series_value(133.164e-3, 96, 'eq'))"
   ]
  },
  {
   "cell_type": "code",
   "execution_count": null,
   "id": "d785e10a-2346-443f-9546-85b9c5232157",
   "metadata": {},
   "outputs": [],
   "source": [
    "values = []\n",
    "tolerance = [0.001, 0.001, 0.001]\n",
    "for x in [1-tolerance[0], 1+tolerance[0]]:\n",
    "    for y in [1-tolerance[1], 1+tolerance[1]]:\n",
    "        for z in [1-tolerance[2], 1+tolerance[2]]:\n",
    "            values.append(2.5*x*280/(z*(y*13700+x*280)))\n",
    "print(100*min(values)/50e-3-100)\n",
    "print(100*max(values)/50e-3-100)\n"
   ]
  },
  {
   "cell_type": "code",
   "execution_count": null,
   "id": "76fb8d69-a64e-4118-a305-0b7311063534",
   "metadata": {},
   "outputs": [],
   "source": []
  }
 ],
 "metadata": {
  "kernelspec": {
   "display_name": "Python 3 (ipykernel)",
   "language": "python",
   "name": "python3"
  },
  "language_info": {
   "codemirror_mode": {
    "name": "ipython",
    "version": 3
   },
   "file_extension": ".py",
   "mimetype": "text/x-python",
   "name": "python",
   "nbconvert_exporter": "python",
   "pygments_lexer": "ipython3",
   "version": "3.13.1"
  }
 },
 "nbformat": 4,
 "nbformat_minor": 5
}
