{
 "cells": [
  {
   "cell_type": "code",
   "execution_count": null,
   "id": "fa1fcb0a-1bf4-4e01-b8c2-45bc5d0cfd62",
   "metadata": {},
   "outputs": [],
   "source": [
    "from topologies.flyback import (\n",
    "    boundary_duty_cycle, dt_cycle, peak_current, energy_inductor,\n",
    "    boundary_power, voltage_ratio_DCM, voltage_ratio_CCM,\n",
    ")\n",
    "import matplotlib.pyplot as plt\n",
    "import numpy as np\n"
   ]
  },
  {
   "cell_type": "code",
   "execution_count": null,
   "id": "124a989b-1f49-47a7-946b-241d3e543c9d",
   "metadata": {},
   "outputs": [],
   "source": [
    "Vin = 48.0\n",
    "Vout = 12.0\n",
    "Rload = 10.0\n",
    "Fsw = 200e3\n",
    "Lp = 50e-6\n",
    "Nps = 1.0\n",
    "\n",
    "D_b = boundary_duty_cycle(Vin, Vout, Nps)\n",
    "I_pk = peak_current(Vin, Lp, D_b, Fsw)\n",
    "E_pk = energy_inductor(Lp, I_pk)\n",
    "P_b = boundary_power(Vin, D_b, Lp, Fsw)\n",
    "P_load = Vout**2 / Rload\n",
    "\n",
    "print(f'Duty cycle: {D_b:.4f}')\n",
    "print(f'Peak current: {I_pk:.4f} A')\n",
    "print(f'Stored energy: {E_pk:.4e} J')\n",
    "print(f'Boundary power: {P_b:.4f} W')\n",
    "print(f'Required load power: {P_load:.4f} W')\n",
    "print('Mode:', 'DCM' if P_load < P_b else 'CCM')\n",
    "ratio_DCM = voltage_ratio_DCM(D_b, Rload, Lp, Fsw)\n",
    "ratio_CCM = voltage_ratio_CCM(D_b, Nps)\n",
    "print(f'Voltage ratio DCM (Vout/Vin): {ratio_DCM:.4f}')\n",
    "print(f'Voltage ratio CCM (Vout/Vin): {ratio_CCM:.4f}')\n"
   ]
  },
  {
   "cell_type": "code",
   "execution_count": null,
   "id": "b4d93d41-a112-4438-b04f-09fe318fb197",
   "metadata": {},
   "outputs": [],
   "source": [
    "Vins = np.linspace(20, 60, 100)\n",
    "P_boundary = [\n",
    "    boundary_power(V, boundary_duty_cycle(V, Vout, Nps), Lp, Fsw)\n",
    "    for V in Vins\n",
    "]\n",
    "\n",
    "plt.figure(figsize=(6, 4))\n",
    "plt.plot(Vins, P_boundary)\n",
    "plt.xlabel('Vin (V)')\n",
    "plt.ylabel('Boundary Power (W)')\n",
    "plt.title('Boundary Power vs. Vin')\n",
    "plt.grid(True)\n",
    "plt.show()\n"
   ]
  }
 ],
 "metadata": {
  "kernelspec": {
   "display_name": "Python 3 (ipykernel)",
   "language": "python",
   "name": "python3"
  },
  "language_info": {
   "codemirror_mode": {
    "name": "ipython",
    "version": 3
   },
   "file_extension": ".py",
   "mimetype": "text/x-python",
   "name": "python",
   "nbconvert_exporter": "python",
   "pygments_lexer": "ipython3",
   "version": "3.13.1"
  }
 },
 "nbformat": 4,
 "nbformat_minor": 5
}
